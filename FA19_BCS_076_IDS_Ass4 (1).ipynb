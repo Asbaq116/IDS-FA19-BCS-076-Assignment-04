{
  "cells": [
    {
      "cell_type": "code",
      "execution_count": 38,
      "metadata": {
        "id": "HlX6Vbrm7ho3"
      },
      "outputs": [],
      "source": [
        "import pandas as pd \n",
        "from sklearn import preprocessing"
      ]
    },
    {
      "cell_type": "code",
      "execution_count": 36,
      "metadata": {
        "id": "3O0xn3Xf73WW"
      },
      "outputs": [],
      "source": [
        "from sklearn.svm import SVC, LinearSVC\n",
        "from sklearn.naive_bayes import GaussianNB\n",
        "from sklearn.ensemble import RandomForestClassifier\n",
        "from sklearn.neural_network import MLPClassifier\n",
        "from sklearn.tree import DecisionTreeClassifier\n",
        "\n",
        "from sklearn.model_selection import train_test_split\n",
        "from sklearn.model_selection import ShuffleSplit\n",
        "from sklearn.model_selection import LeavePOut\n",
        "from sklearn.model_selection import cross_val_score\n",
        "\n",
        "from sklearn.metrics import accuracy_score, f1_score, precision_score, recall_score\n",
        "\n",
        "import warnings\n",
        "warnings.filterwarnings('always')"
      ]
    },
    {
      "cell_type": "code",
      "execution_count": 39,
      "metadata": {
        "colab": {
          "base_uri": "https://localhost:8080/"
        },
        "id": "zkJkbNeA76ld",
        "outputId": "2698679d-ef6e-462e-92c9-bac1e7aa0c30"
      },
      "outputs": [
        {
          "output_type": "stream",
          "name": "stdout",
          "text": [
            "Drive already mounted at /content/drive; to attempt to forcibly remount, call drive.mount(\"/content/drive\", force_remount=True).\n"
          ]
        }
      ],
      "source": [
        "from google.colab import drive \n",
        "drive.mount('/content/drive')"
      ]
    },
    {
      "cell_type": "code",
      "execution_count": null,
      "metadata": {
        "id": "JH-ftbIg8TS8"
      },
      "outputs": [],
      "source": [
        "df = pd.read_csv(('/content/drive/ My Drive/gender-prediction.csv'))"
      ]
    },
    {
      "cell_type": "code",
      "execution_count": 40,
      "metadata": {
        "id": "TQPakDU69OAM"
      },
      "outputs": [],
      "source": [
        "##Q1\n",
        "labels = preprocessing.LabelEncoder()\n",
        "\n",
        "##categorical input attributes\n",
        "beard_encoded = labels.fit_transform(df['beard'])\n",
        "hair_length_encoded = labels.fit_transform(df['hair_length'])\n",
        "scarf_encoded = labels.fit_transform(df['scarf'])\n",
        "eye_color_encoded = labels.fit_transform(df['eye_color'])\n",
        "\n",
        "x_encoded = list(zip(df['height'], df['weight'], beard_encoded, hair_length_encoded, df['shoe_size'], scarf_encoded, eye_color_encoded))"
      ]
    },
    {
      "cell_type": "code",
      "execution_count": null,
      "metadata": {
        "id": "RSyhauMGBo-x"
      },
      "outputs": [],
      "source": [
        "y = df['gender']\n",
        "y_encoded = labels.fit_transform(y)"
      ]
    },
    {
      "cell_type": "code",
      "execution_count": 41,
      "metadata": {
        "id": "qTKNVt2oBuOS"
      },
      "outputs": [],
      "source": [
        "X_train, x_test, Y_train, y_test = train_test_split(x_encoded, y_encoded, test_size = 0.25, random_state = 3)"
      ]
    },
    {
      "cell_type": "code",
      "execution_count": 42,
      "metadata": {
        "id": "jtOySgmcBxBK"
      },
      "outputs": [],
      "source": [
        "svc_model = SVC()\n",
        "mlp_model = MLPClassifier()\n",
        "random_forest_model = RandomForestClassifier()"
      ]
    },
    {
      "cell_type": "code",
      "execution_count": 43,
      "metadata": {
        "colab": {
          "base_uri": "https://localhost:8080/"
        },
        "id": "tynNH9_oCBGh",
        "outputId": "8b57381e-f048-4df7-d428-0f27e0359c9b"
      },
      "outputs": [
        {
          "output_type": "stream",
          "name": "stderr",
          "text": [
            "/usr/local/lib/python3.8/dist-packages/sklearn/neural_network/_multilayer_perceptron.py:692: ConvergenceWarning: Stochastic Optimizer: Maximum iterations (200) reached and the optimization hasn't converged yet.\n",
            "  warnings.warn(\n"
          ]
        },
        {
          "output_type": "execute_result",
          "data": {
            "text/plain": [
              "RandomForestClassifier()"
            ]
          },
          "metadata": {},
          "execution_count": 43
        }
      ],
      "source": [
        "svc_model.fit(X_train,Y_train)\n",
        "mlp_model.fit(X_train,Y_train)\n",
        "random_forest_model.fit(X_train,Y_train)"
      ]
    },
    {
      "cell_type": "code",
      "execution_count": 44,
      "metadata": {
        "id": "gbDcDPyUCFic"
      },
      "outputs": [],
      "source": [
        "svc_prediction = svc_model.predict(x_test)\n",
        "mlp_prediction = mlp_model.predict(x_test)\n",
        "random_forest_prediction = random_forest_model.predict(x_test)"
      ]
    },
    {
      "cell_type": "code",
      "execution_count": 45,
      "metadata": {
        "colab": {
          "base_uri": "https://localhost:8080/"
        },
        "id": "uLuip6BhCMmu",
        "outputId": "d47fd83c-c0bb-4a9c-f731-0c7786f35607"
      },
      "outputs": [
        {
          "output_type": "stream",
          "name": "stdout",
          "text": [
            "Support Vector Machine accuracy 80.0 %\n",
            "Multilayer Perceptron accuracy 90.0 %\n",
            "Random forest accuracy 95.0 %\n"
          ]
        }
      ],
      "source": [
        "svc_model_acc = accuracy_score(y_test, svc_prediction)*100\n",
        "mlp_model_acc = accuracy_score(y_test, mlp_prediction)*100\n",
        "random_forest_model_acc = accuracy_score(y_test, random_forest_prediction)*100\n",
        "print(\"Support Vector Machine accuracy\", svc_model_acc, \"%\")\n",
        "print(\"Multilayer Perceptron accuracy\", mlp_model_acc, \"%\")\n",
        "print(\"Random forest accuracy\", random_forest_model_acc, \"%\")"
      ]
    },
    {
      "cell_type": "code",
      "execution_count": 46,
      "metadata": {
        "id": "btjGWTyoCUGl"
      },
      "outputs": [],
      "source": [
        "#using train/test split ratio (80/20)\n",
        "\n",
        "X_train, x_test, Y_train, y_test = train_test_split(x_encoded, y_encoded, test_size = 0.5, random_state = 3)"
      ]
    },
    {
      "cell_type": "code",
      "execution_count": 47,
      "metadata": {
        "id": "pv8stNxMCYIB"
      },
      "outputs": [],
      "source": [
        "svc_model = SVC()\n",
        "mlp_model = MLPClassifier()\n",
        "random_forest_model = RandomForestClassifier()"
      ]
    },
    {
      "cell_type": "code",
      "execution_count": 48,
      "metadata": {
        "colab": {
          "base_uri": "https://localhost:8080/"
        },
        "id": "la9dWyQSCcXW",
        "outputId": "c263dcdd-0408-47a7-cd32-862b486d0af7"
      },
      "outputs": [
        {
          "output_type": "stream",
          "name": "stderr",
          "text": [
            "/usr/local/lib/python3.8/dist-packages/sklearn/neural_network/_multilayer_perceptron.py:692: ConvergenceWarning: Stochastic Optimizer: Maximum iterations (200) reached and the optimization hasn't converged yet.\n",
            "  warnings.warn(\n"
          ]
        },
        {
          "output_type": "execute_result",
          "data": {
            "text/plain": [
              "RandomForestClassifier()"
            ]
          },
          "metadata": {},
          "execution_count": 48
        }
      ],
      "source": [
        "svc_model.fit(X_train,Y_train)\n",
        "mlp_model.fit(X_train,Y_train)\n",
        "random_forest_model.fit(X_train,Y_train)"
      ]
    },
    {
      "cell_type": "code",
      "execution_count": 49,
      "metadata": {
        "id": "FMAJyW6bCgP-"
      },
      "outputs": [],
      "source": [
        "svc_prediction = svc_model.predict(x_test)\n",
        "mlp_prediction = mlp_model.predict(x_test)\n",
        "random_forest_prediction = random_forest_model.predict(x_test)"
      ]
    },
    {
      "cell_type": "code",
      "execution_count": 50,
      "metadata": {
        "colab": {
          "base_uri": "https://localhost:8080/"
        },
        "id": "K7vCVNL4CkM1",
        "outputId": "97fbc1db-ad15-471c-962b-8d8d72212743"
      },
      "outputs": [
        {
          "output_type": "stream",
          "name": "stdout",
          "text": [
            "Support Vector Machine accuracy 80.0 %\n",
            "Multilayer Perceptron accuracy 90.0 %\n",
            "Random forest accuracy 97.5 %\n"
          ]
        }
      ],
      "source": [
        "svc_model_acc = accuracy_score(y_test, svc_prediction)*100\n",
        "mlp_model_acc = accuracy_score(y_test, mlp_prediction)*100\n",
        "random_forest_model_acc = accuracy_score(y_test, random_forest_prediction)*100\n",
        "print(\"Support Vector Machine accuracy\", svc_model_acc, \"%\")\n",
        "print(\"Multilayer Perceptron accuracy\", mlp_model_acc, \"%\")\n",
        "print(\"Random forest accuracy\", random_forest_model_acc, \"%\")"
      ]
    },
    {
      "cell_type": "code",
      "execution_count": 51,
      "metadata": {
        "id": "d0FimMYsDuHj"
      },
      "outputs": [],
      "source": [
        "##Q2 (incorrectly classified instanves; rerun for train-test; 2 most powerful attributes; excluding 2 attributes)\n",
        "x_encoded = list(zip(df['height'], df['weight'], hair_length_encoded, df['shoe_size'], eye_color_encoded))\n",
        "y = df['gender']\n",
        "y_encoded = labels.fit_transform(y)"
      ]
    },
    {
      "cell_type": "code",
      "execution_count": 52,
      "metadata": {
        "id": "s7AbJ4WED4F-"
      },
      "outputs": [],
      "source": [
        "X_train, x_test, Y_train, y_test = train_test_split(x_encoded, y_encoded, test_size = 0.5, random_state = 3)"
      ]
    },
    {
      "cell_type": "code",
      "execution_count": 53,
      "metadata": {
        "id": "a5nfGnkqD79D"
      },
      "outputs": [],
      "source": [
        "svc_model = SVC()\n",
        "mlp_model = MLPClassifier()\n",
        "random_forest_model = RandomForestClassifier()"
      ]
    },
    {
      "cell_type": "code",
      "execution_count": 54,
      "metadata": {
        "colab": {
          "base_uri": "https://localhost:8080/"
        },
        "id": "HHERMKMvD9sA",
        "outputId": "ec0d7824-e97c-4030-9935-4addb7c5547d"
      },
      "outputs": [
        {
          "output_type": "stream",
          "name": "stderr",
          "text": [
            "/usr/local/lib/python3.8/dist-packages/sklearn/neural_network/_multilayer_perceptron.py:692: ConvergenceWarning: Stochastic Optimizer: Maximum iterations (200) reached and the optimization hasn't converged yet.\n",
            "  warnings.warn(\n"
          ]
        },
        {
          "output_type": "execute_result",
          "data": {
            "text/plain": [
              "RandomForestClassifier()"
            ]
          },
          "metadata": {},
          "execution_count": 54
        }
      ],
      "source": [
        "svc_model.fit(X_train,Y_train)\n",
        "mlp_model.fit(X_train,Y_train)\n",
        "random_forest_model.fit(X_train,Y_train)"
      ]
    },
    {
      "cell_type": "code",
      "execution_count": 55,
      "metadata": {
        "id": "3u3lfZwwEFbA"
      },
      "outputs": [],
      "source": [
        "svc_prediction = svc_model.predict(x_test)\n",
        "mlp_prediction = mlp_model.predict(x_test)\n",
        "random_forest_prediction = random_forest_model.predict(x_test)"
      ]
    },
    {
      "cell_type": "code",
      "execution_count": 56,
      "metadata": {
        "colab": {
          "base_uri": "https://localhost:8080/"
        },
        "id": "QCawsox-EHQi",
        "outputId": "6607aca7-adc1-4e43-fa99-0b4531d918fa"
      },
      "outputs": [
        {
          "output_type": "stream",
          "name": "stdout",
          "text": [
            "Support Vector Machine accuracy 82.5 %\n",
            "Multilayer Perceptron accuracy 82.5 %\n",
            "Random forest accuracy 97.5 %\n"
          ]
        }
      ],
      "source": [
        "svc_model_acc = accuracy_score(y_test, svc_prediction)*100\n",
        "mlp_model_acc = accuracy_score(y_test, mlp_prediction)*100\n",
        "random_forest_model_acc = accuracy_score(y_test, random_forest_prediction)*100\n",
        "print(\"Support Vector Machine accuracy\", svc_model_acc, \"%\")\n",
        "print(\"Multilayer Perceptron accuracy\", mlp_model_acc, \"%\")\n",
        "print(\"Random forest accuracy\", random_forest_model_acc, \"%\")"
      ]
    },
    {
      "cell_type": "code",
      "execution_count": null,
      "metadata": {
        "id": "otcfiahBER6I"
      },
      "outputs": [],
      "source": [
        "##Q3\n",
        "x_encoded = list(zip(df['height'], df['weight'], beard_encoded, hair_length_encoded, df['shoe_size'], scarf_encoded, eye_color_encoded))\n",
        "y = df['gender']\n",
        "y_encoded = labels.fit_transform(y)"
      ]
    },
    {
      "cell_type": "code",
      "execution_count": 57,
      "metadata": {
        "id": "siXih27JEZTc"
      },
      "outputs": [],
      "source": [
        "#Monte Carlo cross-validation\n",
        "monte_carlo = ShuffleSplit(n_splits = 3 ,test_size=  0.22, random_state = 4)"
      ]
    },
    {
      "cell_type": "code",
      "execution_count": null,
      "metadata": {
        "id": "cWQGpUaREcL1"
      },
      "outputs": [],
      "source": [
        "decision_tree_model = DecisionTreeClassifier()"
      ]
    },
    {
      "cell_type": "code",
      "execution_count": 58,
      "metadata": {
        "colab": {
          "base_uri": "https://localhost:8080/"
        },
        "id": "CJdqnl5MEe2R",
        "outputId": "768801ca-3bfd-47ff-e22a-23ee5f3c84a8"
      },
      "outputs": [
        {
          "output_type": "stream",
          "name": "stdout",
          "text": [
            "Monte Carlo cross-validation accuracy 90.74074074074075 %\n",
            "Monte Carlo cross-validation F1 score 92.80303030303031 %\n"
          ]
        }
      ],
      "source": [
        "monte_carlo_acc = cross_val_score(decision_tree_model,x_encoded,y_encoded,cv=monte_carlo).mean() * 100\n",
        "monte_carlo_f1 = cross_val_score(decision_tree_model,x_encoded,y_encoded, scoring=\"f1\", cv=monte_carlo).mean() * 100\n",
        "print(\"Monte Carlo cross-validation accuracy\", monte_carlo_acc, \"%\")\n",
        "print(\"Monte Carlo cross-validation F1 score\", monte_carlo_f1, \"%\")"
      ]
    },
    {
      "cell_type": "code",
      "execution_count": 59,
      "metadata": {
        "colab": {
          "base_uri": "https://localhost:8080/"
        },
        "id": "U4Nc_Fc_Elua",
        "outputId": "5118d932-46af-4dda-86da-20144c768f10"
      },
      "outputs": [
        {
          "output_type": "execute_result",
          "data": {
            "text/plain": [
              "82160"
            ]
          },
          "metadata": {},
          "execution_count": 59
        }
      ],
      "source": [
        "#Leave P-Out cross-validation\n",
        "lpo = LeavePOut(3)\n",
        "lpo.get_n_splits(x_encoded)"
      ]
    },
    {
      "cell_type": "code",
      "execution_count": 60,
      "metadata": {
        "id": "swwm0fHJEtek"
      },
      "outputs": [],
      "source": [
        "decision_tree_model = DecisionTreeClassifier()"
      ]
    },
    {
      "cell_type": "code",
      "execution_count": 61,
      "metadata": {
        "colab": {
          "base_uri": "https://localhost:8080/"
        },
        "id": "hT5S-8ZnEuAp",
        "outputId": "e7434aac-d6ef-475a-a142-ac6a310d6ceb"
      },
      "outputs": [
        {
          "output_type": "stream",
          "name": "stdout",
          "text": [
            "Leave P-Out cross-validation accuracy 94.92453748782862 %\n",
            "Leave P-Out cross-validation F1 score 94.90344044141511 %\n"
          ]
        }
      ],
      "source": [
        "leave_pout_acc = cross_val_score(decision_tree_model,x_encoded,y_encoded,cv=lpo).mean() *100\n",
        "leave_pout_f1 = cross_val_score(decision_tree_model,x_encoded,y_encoded,cv=lpo, scoring=\"f1_weighted\").mean() * 100\n",
        "print(\"Leave P-Out cross-validation accuracy\", leave_pout_acc, \"%\")\n",
        "print(\"Leave P-Out cross-validation F1 score\", leave_pout_f1, \"%\")"
      ]
    },
    {
      "cell_type": "code",
      "execution_count": 66,
      "metadata": {
        "id": "M3lgbwBnE5AE"
      },
      "outputs": [],
      "source": [
        "##Q4\n",
        "df = pd.read_csv(('/content/drive/ My Drive/gender-prediction.csv'))"
      ]
    },
    {
      "cell_type": "code",
      "source": [
        "train_data = df.iloc[:54]\n",
        "train_data\n",
        "\n",
        "test_data = df.iloc[54:]\n",
        "test_data"
      ],
      "metadata": {
        "colab": {
          "base_uri": "https://localhost:8080/",
          "height": 865
        },
        "id": "ujNiJgE4HAu8",
        "outputId": "cade1548-eea1-43ec-e53d-d190d89b472f"
      },
      "execution_count": 68,
      "outputs": [
        {
          "output_type": "execute_result",
          "data": {
            "text/plain": [
              "    height  weight beard hair_length  shoe_size scarf eye_color  gender\n",
              "54      63     103    no        long         38    no     brown  female\n",
              "55      74     218    no      medium         43    no     black    male\n",
              "56      72     145   yes      medium         42    no     brown    male\n",
              "57      67      99    no        long         39   yes      gray  female\n",
              "58      69     209   yes      medium         43    no     brown    male\n",
              "59      67     143   yes      medium         38    no     brown    male\n",
              "60      70     209    no      medium         44    no     brown    male\n",
              "61      71     145   yes      medium         44    no     brown    male\n",
              "62      72     185   yes       short         44    no     brown    male\n",
              "63      65      96    no        long         37   yes     green  female\n",
              "64      60     125    no        long         38   yes      gray  female\n",
              "65      70     166   yes        bald         40    no     black    male\n",
              "66      63     102    no        long         38   yes     green  female\n",
              "67      67     133   yes       short         40    no     black    male\n",
              "68      62     105    no      medium         37   yes     black  female\n",
              "69      71     168   yes       short         42    no     black    male\n",
              "70      62     100    no        long         38    no     brown  female\n",
              "71      74     202    no      medium         43    no     black    male\n",
              "72      72     165   yes      medium         44    no     brown    male\n",
              "73      65      98    no        long         38   yes      gray  female\n",
              "74      67     145    no        long         39   yes     green  female\n",
              "75      65      99    no       short         39   yes     green  female\n",
              "76      61      98    no       short         37    no     brown  female\n",
              "77      67     119   yes       short         40    no     black    male\n",
              "78      70     190   yes      medium         43    no      gray    male\n",
              "79      62     142   yes        long         37    no      blue  female"
            ],
            "text/html": [
              "\n",
              "  <div id=\"df-114578ad-4eb4-43f0-b738-084c35a20e0c\">\n",
              "    <div class=\"colab-df-container\">\n",
              "      <div>\n",
              "<style scoped>\n",
              "    .dataframe tbody tr th:only-of-type {\n",
              "        vertical-align: middle;\n",
              "    }\n",
              "\n",
              "    .dataframe tbody tr th {\n",
              "        vertical-align: top;\n",
              "    }\n",
              "\n",
              "    .dataframe thead th {\n",
              "        text-align: right;\n",
              "    }\n",
              "</style>\n",
              "<table border=\"1\" class=\"dataframe\">\n",
              "  <thead>\n",
              "    <tr style=\"text-align: right;\">\n",
              "      <th></th>\n",
              "      <th>height</th>\n",
              "      <th>weight</th>\n",
              "      <th>beard</th>\n",
              "      <th>hair_length</th>\n",
              "      <th>shoe_size</th>\n",
              "      <th>scarf</th>\n",
              "      <th>eye_color</th>\n",
              "      <th>gender</th>\n",
              "    </tr>\n",
              "  </thead>\n",
              "  <tbody>\n",
              "    <tr>\n",
              "      <th>54</th>\n",
              "      <td>63</td>\n",
              "      <td>103</td>\n",
              "      <td>no</td>\n",
              "      <td>long</td>\n",
              "      <td>38</td>\n",
              "      <td>no</td>\n",
              "      <td>brown</td>\n",
              "      <td>female</td>\n",
              "    </tr>\n",
              "    <tr>\n",
              "      <th>55</th>\n",
              "      <td>74</td>\n",
              "      <td>218</td>\n",
              "      <td>no</td>\n",
              "      <td>medium</td>\n",
              "      <td>43</td>\n",
              "      <td>no</td>\n",
              "      <td>black</td>\n",
              "      <td>male</td>\n",
              "    </tr>\n",
              "    <tr>\n",
              "      <th>56</th>\n",
              "      <td>72</td>\n",
              "      <td>145</td>\n",
              "      <td>yes</td>\n",
              "      <td>medium</td>\n",
              "      <td>42</td>\n",
              "      <td>no</td>\n",
              "      <td>brown</td>\n",
              "      <td>male</td>\n",
              "    </tr>\n",
              "    <tr>\n",
              "      <th>57</th>\n",
              "      <td>67</td>\n",
              "      <td>99</td>\n",
              "      <td>no</td>\n",
              "      <td>long</td>\n",
              "      <td>39</td>\n",
              "      <td>yes</td>\n",
              "      <td>gray</td>\n",
              "      <td>female</td>\n",
              "    </tr>\n",
              "    <tr>\n",
              "      <th>58</th>\n",
              "      <td>69</td>\n",
              "      <td>209</td>\n",
              "      <td>yes</td>\n",
              "      <td>medium</td>\n",
              "      <td>43</td>\n",
              "      <td>no</td>\n",
              "      <td>brown</td>\n",
              "      <td>male</td>\n",
              "    </tr>\n",
              "    <tr>\n",
              "      <th>59</th>\n",
              "      <td>67</td>\n",
              "      <td>143</td>\n",
              "      <td>yes</td>\n",
              "      <td>medium</td>\n",
              "      <td>38</td>\n",
              "      <td>no</td>\n",
              "      <td>brown</td>\n",
              "      <td>male</td>\n",
              "    </tr>\n",
              "    <tr>\n",
              "      <th>60</th>\n",
              "      <td>70</td>\n",
              "      <td>209</td>\n",
              "      <td>no</td>\n",
              "      <td>medium</td>\n",
              "      <td>44</td>\n",
              "      <td>no</td>\n",
              "      <td>brown</td>\n",
              "      <td>male</td>\n",
              "    </tr>\n",
              "    <tr>\n",
              "      <th>61</th>\n",
              "      <td>71</td>\n",
              "      <td>145</td>\n",
              "      <td>yes</td>\n",
              "      <td>medium</td>\n",
              "      <td>44</td>\n",
              "      <td>no</td>\n",
              "      <td>brown</td>\n",
              "      <td>male</td>\n",
              "    </tr>\n",
              "    <tr>\n",
              "      <th>62</th>\n",
              "      <td>72</td>\n",
              "      <td>185</td>\n",
              "      <td>yes</td>\n",
              "      <td>short</td>\n",
              "      <td>44</td>\n",
              "      <td>no</td>\n",
              "      <td>brown</td>\n",
              "      <td>male</td>\n",
              "    </tr>\n",
              "    <tr>\n",
              "      <th>63</th>\n",
              "      <td>65</td>\n",
              "      <td>96</td>\n",
              "      <td>no</td>\n",
              "      <td>long</td>\n",
              "      <td>37</td>\n",
              "      <td>yes</td>\n",
              "      <td>green</td>\n",
              "      <td>female</td>\n",
              "    </tr>\n",
              "    <tr>\n",
              "      <th>64</th>\n",
              "      <td>60</td>\n",
              "      <td>125</td>\n",
              "      <td>no</td>\n",
              "      <td>long</td>\n",
              "      <td>38</td>\n",
              "      <td>yes</td>\n",
              "      <td>gray</td>\n",
              "      <td>female</td>\n",
              "    </tr>\n",
              "    <tr>\n",
              "      <th>65</th>\n",
              "      <td>70</td>\n",
              "      <td>166</td>\n",
              "      <td>yes</td>\n",
              "      <td>bald</td>\n",
              "      <td>40</td>\n",
              "      <td>no</td>\n",
              "      <td>black</td>\n",
              "      <td>male</td>\n",
              "    </tr>\n",
              "    <tr>\n",
              "      <th>66</th>\n",
              "      <td>63</td>\n",
              "      <td>102</td>\n",
              "      <td>no</td>\n",
              "      <td>long</td>\n",
              "      <td>38</td>\n",
              "      <td>yes</td>\n",
              "      <td>green</td>\n",
              "      <td>female</td>\n",
              "    </tr>\n",
              "    <tr>\n",
              "      <th>67</th>\n",
              "      <td>67</td>\n",
              "      <td>133</td>\n",
              "      <td>yes</td>\n",
              "      <td>short</td>\n",
              "      <td>40</td>\n",
              "      <td>no</td>\n",
              "      <td>black</td>\n",
              "      <td>male</td>\n",
              "    </tr>\n",
              "    <tr>\n",
              "      <th>68</th>\n",
              "      <td>62</td>\n",
              "      <td>105</td>\n",
              "      <td>no</td>\n",
              "      <td>medium</td>\n",
              "      <td>37</td>\n",
              "      <td>yes</td>\n",
              "      <td>black</td>\n",
              "      <td>female</td>\n",
              "    </tr>\n",
              "    <tr>\n",
              "      <th>69</th>\n",
              "      <td>71</td>\n",
              "      <td>168</td>\n",
              "      <td>yes</td>\n",
              "      <td>short</td>\n",
              "      <td>42</td>\n",
              "      <td>no</td>\n",
              "      <td>black</td>\n",
              "      <td>male</td>\n",
              "    </tr>\n",
              "    <tr>\n",
              "      <th>70</th>\n",
              "      <td>62</td>\n",
              "      <td>100</td>\n",
              "      <td>no</td>\n",
              "      <td>long</td>\n",
              "      <td>38</td>\n",
              "      <td>no</td>\n",
              "      <td>brown</td>\n",
              "      <td>female</td>\n",
              "    </tr>\n",
              "    <tr>\n",
              "      <th>71</th>\n",
              "      <td>74</td>\n",
              "      <td>202</td>\n",
              "      <td>no</td>\n",
              "      <td>medium</td>\n",
              "      <td>43</td>\n",
              "      <td>no</td>\n",
              "      <td>black</td>\n",
              "      <td>male</td>\n",
              "    </tr>\n",
              "    <tr>\n",
              "      <th>72</th>\n",
              "      <td>72</td>\n",
              "      <td>165</td>\n",
              "      <td>yes</td>\n",
              "      <td>medium</td>\n",
              "      <td>44</td>\n",
              "      <td>no</td>\n",
              "      <td>brown</td>\n",
              "      <td>male</td>\n",
              "    </tr>\n",
              "    <tr>\n",
              "      <th>73</th>\n",
              "      <td>65</td>\n",
              "      <td>98</td>\n",
              "      <td>no</td>\n",
              "      <td>long</td>\n",
              "      <td>38</td>\n",
              "      <td>yes</td>\n",
              "      <td>gray</td>\n",
              "      <td>female</td>\n",
              "    </tr>\n",
              "    <tr>\n",
              "      <th>74</th>\n",
              "      <td>67</td>\n",
              "      <td>145</td>\n",
              "      <td>no</td>\n",
              "      <td>long</td>\n",
              "      <td>39</td>\n",
              "      <td>yes</td>\n",
              "      <td>green</td>\n",
              "      <td>female</td>\n",
              "    </tr>\n",
              "    <tr>\n",
              "      <th>75</th>\n",
              "      <td>65</td>\n",
              "      <td>99</td>\n",
              "      <td>no</td>\n",
              "      <td>short</td>\n",
              "      <td>39</td>\n",
              "      <td>yes</td>\n",
              "      <td>green</td>\n",
              "      <td>female</td>\n",
              "    </tr>\n",
              "    <tr>\n",
              "      <th>76</th>\n",
              "      <td>61</td>\n",
              "      <td>98</td>\n",
              "      <td>no</td>\n",
              "      <td>short</td>\n",
              "      <td>37</td>\n",
              "      <td>no</td>\n",
              "      <td>brown</td>\n",
              "      <td>female</td>\n",
              "    </tr>\n",
              "    <tr>\n",
              "      <th>77</th>\n",
              "      <td>67</td>\n",
              "      <td>119</td>\n",
              "      <td>yes</td>\n",
              "      <td>short</td>\n",
              "      <td>40</td>\n",
              "      <td>no</td>\n",
              "      <td>black</td>\n",
              "      <td>male</td>\n",
              "    </tr>\n",
              "    <tr>\n",
              "      <th>78</th>\n",
              "      <td>70</td>\n",
              "      <td>190</td>\n",
              "      <td>yes</td>\n",
              "      <td>medium</td>\n",
              "      <td>43</td>\n",
              "      <td>no</td>\n",
              "      <td>gray</td>\n",
              "      <td>male</td>\n",
              "    </tr>\n",
              "    <tr>\n",
              "      <th>79</th>\n",
              "      <td>62</td>\n",
              "      <td>142</td>\n",
              "      <td>yes</td>\n",
              "      <td>long</td>\n",
              "      <td>37</td>\n",
              "      <td>no</td>\n",
              "      <td>blue</td>\n",
              "      <td>female</td>\n",
              "    </tr>\n",
              "  </tbody>\n",
              "</table>\n",
              "</div>\n",
              "      <button class=\"colab-df-convert\" onclick=\"convertToInteractive('df-114578ad-4eb4-43f0-b738-084c35a20e0c')\"\n",
              "              title=\"Convert this dataframe to an interactive table.\"\n",
              "              style=\"display:none;\">\n",
              "        \n",
              "  <svg xmlns=\"http://www.w3.org/2000/svg\" height=\"24px\"viewBox=\"0 0 24 24\"\n",
              "       width=\"24px\">\n",
              "    <path d=\"M0 0h24v24H0V0z\" fill=\"none\"/>\n",
              "    <path d=\"M18.56 5.44l.94 2.06.94-2.06 2.06-.94-2.06-.94-.94-2.06-.94 2.06-2.06.94zm-11 1L8.5 8.5l.94-2.06 2.06-.94-2.06-.94L8.5 2.5l-.94 2.06-2.06.94zm10 10l.94 2.06.94-2.06 2.06-.94-2.06-.94-.94-2.06-.94 2.06-2.06.94z\"/><path d=\"M17.41 7.96l-1.37-1.37c-.4-.4-.92-.59-1.43-.59-.52 0-1.04.2-1.43.59L10.3 9.45l-7.72 7.72c-.78.78-.78 2.05 0 2.83L4 21.41c.39.39.9.59 1.41.59.51 0 1.02-.2 1.41-.59l7.78-7.78 2.81-2.81c.8-.78.8-2.07 0-2.86zM5.41 20L4 18.59l7.72-7.72 1.47 1.35L5.41 20z\"/>\n",
              "  </svg>\n",
              "      </button>\n",
              "      \n",
              "  <style>\n",
              "    .colab-df-container {\n",
              "      display:flex;\n",
              "      flex-wrap:wrap;\n",
              "      gap: 12px;\n",
              "    }\n",
              "\n",
              "    .colab-df-convert {\n",
              "      background-color: #E8F0FE;\n",
              "      border: none;\n",
              "      border-radius: 50%;\n",
              "      cursor: pointer;\n",
              "      display: none;\n",
              "      fill: #1967D2;\n",
              "      height: 32px;\n",
              "      padding: 0 0 0 0;\n",
              "      width: 32px;\n",
              "    }\n",
              "\n",
              "    .colab-df-convert:hover {\n",
              "      background-color: #E2EBFA;\n",
              "      box-shadow: 0px 1px 2px rgba(60, 64, 67, 0.3), 0px 1px 3px 1px rgba(60, 64, 67, 0.15);\n",
              "      fill: #174EA6;\n",
              "    }\n",
              "\n",
              "    [theme=dark] .colab-df-convert {\n",
              "      background-color: #3B4455;\n",
              "      fill: #D2E3FC;\n",
              "    }\n",
              "\n",
              "    [theme=dark] .colab-df-convert:hover {\n",
              "      background-color: #434B5C;\n",
              "      box-shadow: 0px 1px 3px 1px rgba(0, 0, 0, 0.15);\n",
              "      filter: drop-shadow(0px 1px 2px rgba(0, 0, 0, 0.3));\n",
              "      fill: #FFFFFF;\n",
              "    }\n",
              "  </style>\n",
              "\n",
              "      <script>\n",
              "        const buttonEl =\n",
              "          document.querySelector('#df-114578ad-4eb4-43f0-b738-084c35a20e0c button.colab-df-convert');\n",
              "        buttonEl.style.display =\n",
              "          google.colab.kernel.accessAllowed ? 'block' : 'none';\n",
              "\n",
              "        async function convertToInteractive(key) {\n",
              "          const element = document.querySelector('#df-114578ad-4eb4-43f0-b738-084c35a20e0c');\n",
              "          const dataTable =\n",
              "            await google.colab.kernel.invokeFunction('convertToInteractive',\n",
              "                                                     [key], {});\n",
              "          if (!dataTable) return;\n",
              "\n",
              "          const docLinkHtml = 'Like what you see? Visit the ' +\n",
              "            '<a target=\"_blank\" href=https://colab.research.google.com/notebooks/data_table.ipynb>data table notebook</a>'\n",
              "            + ' to learn more about interactive tables.';\n",
              "          element.innerHTML = '';\n",
              "          dataTable['output_type'] = 'display_data';\n",
              "          await google.colab.output.renderOutput(dataTable, element);\n",
              "          const docLink = document.createElement('div');\n",
              "          docLink.innerHTML = docLinkHtml;\n",
              "          element.appendChild(docLink);\n",
              "        }\n",
              "      </script>\n",
              "    </div>\n",
              "  </div>\n",
              "  "
            ]
          },
          "metadata": {},
          "execution_count": 68
        }
      ]
    },
    {
      "cell_type": "code",
      "source": [
        "labels = preprocessing.LabelEncoder()\n",
        "\n",
        "train_beard_encoded = labels.fit_transform(train_data['beard'])\n",
        "train_hair_length_encoded = labels.fit_transform(train_data['hair_length'])\n",
        "train_scarf_encoded = labels.fit_transform(train_data['scarf'])\n",
        "train_eye_color_encoded = labels.fit_transform(train_data['eye_color'])"
      ],
      "metadata": {
        "id": "Ac0e4IH_HEBG"
      },
      "execution_count": 69,
      "outputs": []
    },
    {
      "cell_type": "code",
      "source": [
        "X_train = list(zip(train_data['height'], train_data['weight'], train_beard_encoded, train_hair_length_encoded, train_data['shoe_size'], train_scarf_encoded, train_eye_color_encoded))\n",
        "Y_train = train_data['gender']"
      ],
      "metadata": {
        "id": "Z6ecAJdtHHfK"
      },
      "execution_count": 70,
      "outputs": []
    },
    {
      "cell_type": "code",
      "source": [
        "test_beard_encoded = labels.fit_transform(test_data['beard'])\n",
        "test_hair_length_encoded = labels.fit_transform(test_data['hair_length'])\n",
        "test_scarf_encoded = labels.fit_transform(test_data['scarf'])\n",
        "test_eye_color_encoded = labels.fit_transform(test_data['eye_color'])"
      ],
      "metadata": {
        "id": "XZ7UTSfQHLgR"
      },
      "execution_count": 71,
      "outputs": []
    },
    {
      "cell_type": "code",
      "source": [
        "x_test = list(zip(test_data['height'], test_data['weight'], test_beard_encoded, test_hair_length_encoded, test_data['shoe_size'], test_scarf_encoded, test_eye_color_encoded))\n",
        "y_test = test_data['gender']"
      ],
      "metadata": {
        "id": "_E7qKmk5HPgz"
      },
      "execution_count": 72,
      "outputs": []
    },
    {
      "cell_type": "code",
      "source": [
        "gnb_model = GaussianNB()"
      ],
      "metadata": {
        "id": "OTTMhk33HTC8"
      },
      "execution_count": 73,
      "outputs": []
    },
    {
      "cell_type": "code",
      "source": [
        "gnb_model.fit(X_train,Y_train)"
      ],
      "metadata": {
        "colab": {
          "base_uri": "https://localhost:8080/"
        },
        "id": "ZbblvvG3HVw0",
        "outputId": "e7877b3f-0ef4-4e92-b359-997f519faa06"
      },
      "execution_count": 74,
      "outputs": [
        {
          "output_type": "execute_result",
          "data": {
            "text/plain": [
              "GaussianNB()"
            ]
          },
          "metadata": {},
          "execution_count": 74
        }
      ]
    },
    {
      "cell_type": "code",
      "source": [
        "prediction = gnb_model.predict(x_test)"
      ],
      "metadata": {
        "id": "UPnZPqaNHX0q"
      },
      "execution_count": 75,
      "outputs": []
    },
    {
      "cell_type": "code",
      "source": [
        "model_acc = accuracy_score(y_test, prediction)*100\n",
        "model_precision = precision_score(y_test, prediction, average=None).mean() *100\n",
        "model_recall = recall_score(y_test, prediction, average=None).mean() *100\n",
        "print(\"Gaussian Naive Bayes accuracy = \", model_acc, \"%\")\n",
        "print(\"Gaussian Naive Bayes precision = \", model_precision, \"%\")\n",
        "print(\"Gaussian Naive Bayes recall = \", model_recall, \"%\")"
      ],
      "metadata": {
        "colab": {
          "base_uri": "https://localhost:8080/"
        },
        "id": "9Hw0KVJYHalQ",
        "outputId": "d55405f7-156b-452a-fa91-913cf06fd4d1"
      },
      "execution_count": 76,
      "outputs": [
        {
          "output_type": "stream",
          "name": "stdout",
          "text": [
            "Gaussian Naive Bayes accuracy =  96.15384615384616 %\n",
            "Gaussian Naive Bayes precision =  96.66666666666667 %\n",
            "Gaussian Naive Bayes recall =  95.83333333333333 %\n"
          ]
        }
      ]
    }
  ],
  "metadata": {
    "colab": {
      "provenance": []
    },
    "kernelspec": {
      "display_name": "Python 3",
      "name": "python3"
    },
    "language_info": {
      "name": "python"
    }
  },
  "nbformat": 4,
  "nbformat_minor": 0
}